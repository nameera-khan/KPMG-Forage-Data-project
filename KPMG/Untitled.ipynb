{
 "cells": [
  {
   "cell_type": "code",
   "execution_count": 1,
   "id": "18e19817-0079-4e03-8b9d-2b2f4f9ca013",
   "metadata": {},
   "outputs": [],
   "source": [
    "#to import data from csv files into pandas \n",
    "import pandas as pd\n",
    "import numpy as np\n",
    "import matplotlib.pyplot as plt\n",
    "import seaborn as sns\n",
    "sns.set()"
   ]
  },
  {
   "cell_type": "markdown",
   "id": "c4ed45ff-4e80-4e49-a27f-c21bc5d4b06b",
   "metadata": {},
   "source": [
    "# Modelling "
   ]
  },
  {
   "cell_type": "code",
   "execution_count": 2,
   "id": "0c6ca879-2bfe-4204-a7bc-eea0d604c2d0",
   "metadata": {},
   "outputs": [],
   "source": [
    "#read rfm file \n",
    "rfm = pd.read_csv(r'C:\\Users\\NAMEERA\\Desktop\\KPMG\\rfm.csv')"
   ]
  },
  {
   "cell_type": "code",
   "execution_count": null,
   "id": "83d296c7-089b-4b44-bfbf-6338125a0bc5",
   "metadata": {},
   "outputs": [],
   "source": [
    "file = pd.ExcelFILE"
   ]
  }
 ],
 "metadata": {
  "kernelspec": {
   "display_name": "Python 3",
   "language": "python",
   "name": "python3"
  },
  "language_info": {
   "codemirror_mode": {
    "name": "ipython",
    "version": 3
   },
   "file_extension": ".py",
   "mimetype": "text/x-python",
   "name": "python",
   "nbconvert_exporter": "python",
   "pygments_lexer": "ipython3",
   "version": "3.8.8"
  }
 },
 "nbformat": 4,
 "nbformat_minor": 5
}
